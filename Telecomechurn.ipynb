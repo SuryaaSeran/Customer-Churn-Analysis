{
  "nbformat": 4,
  "nbformat_minor": 0,
  "metadata": {
    "colab": {
      "name": "Telecomechurn.ipynb",
      "provenance": [],
      "collapsed_sections": []
    },
    "kernelspec": {
      "name": "python3",
      "display_name": "Python 3"
    }
  },
  "cells": [
    {
      "cell_type": "code",
      "metadata": {
        "id": "7tJ26ABEaWE6",
        "colab_type": "code",
        "colab": {
          "base_uri": "https://localhost:8080/",
          "height": 71
        },
        "outputId": "ba7b1818-ce0f-4dd8-90df-f8dee30bba4a"
      },
      "source": [
        "import numpy as np\n",
        "import pandas as pd\n",
        "import tensorflow as tf\n",
        "import seaborn  as sns"
      ],
      "execution_count": 32,
      "outputs": [
        {
          "output_type": "stream",
          "text": [
            "/usr/local/lib/python3.6/dist-packages/statsmodels/tools/_testing.py:19: FutureWarning: pandas.util.testing is deprecated. Use the functions in the public API at pandas.testing instead.\n",
            "  import pandas.util.testing as tm\n"
          ],
          "name": "stderr"
        }
      ]
    },
    {
      "cell_type": "code",
      "metadata": {
        "id": "UYlk1ukigT5h",
        "colab_type": "code",
        "colab": {}
      },
      "source": [
        "from google.colab import files\n",
        "uploaded = files.upload()"
      ],
      "execution_count": 0,
      "outputs": []
    },
    {
      "cell_type": "code",
      "metadata": {
        "id": "pK7_h-Lyb3RA",
        "colab_type": "code",
        "colab": {
          "base_uri": "https://localhost:8080/",
          "height": 51
        },
        "outputId": "226a3f47-92b1-45dc-c6b6-bcd53fe6a82a"
      },
      "source": [
        "dataset = pd.read_csv('datasets_2667_4430_bigml_59c28831336c6604c800002a (2).csv')\n",
        "X = dataset.iloc[:, 1:-1].values\n",
        "y = dataset.iloc[:, -1].values\n",
        "print(X[0])"
      ],
      "execution_count": 63,
      "outputs": [
        {
          "output_type": "stream",
          "text": [
            "[128 415 'no' 'yes' 25 265.1 110 45.07 197.4 99 16.78 244.7 91 11.01 10.0\n",
            " 3 2.7 1]\n"
          ],
          "name": "stdout"
        }
      ]
    },
    {
      "cell_type": "code",
      "metadata": {
        "id": "cvqQGArHda5o",
        "colab_type": "code",
        "colab": {
          "base_uri": "https://localhost:8080/",
          "height": 299
        },
        "outputId": "aee7bca7-db2c-4ad1-e682-3c1ea4b12806"
      },
      "source": [
        "from sklearn.preprocessing import LabelEncoder\n",
        "le = LabelEncoder()\n",
        "X[:, 2] = le.fit_transform(X[:, 2])\n",
        "lw = LabelEncoder()\n",
        "X[:, 3] = le.fit_transform(X[:, 3])\n",
        "print(X[0])\n",
        "Y = dataset[\"churn\"].value_counts()\n",
        "sns.barplot(Y.index, Y.values)"
      ],
      "execution_count": 64,
      "outputs": [
        {
          "output_type": "stream",
          "text": [
            "[128 415 0 1 25 265.1 110 45.07 197.4 99 16.78 244.7 91 11.01 10.0 3 2.7 1]\n"
          ],
          "name": "stdout"
        },
        {
          "output_type": "execute_result",
          "data": {
            "text/plain": [
              "<matplotlib.axes._subplots.AxesSubplot at 0x7f00a90f16d8>"
            ]
          },
          "metadata": {
            "tags": []
          },
          "execution_count": 64
        },
        {
          "output_type": "display_data",
          "data": {
            "image/png": "[encoded data removed]",
            "text/plain": [
              "<Figure size 432x288 with 1 Axes>"
            ]
          },
          "metadata": {
            "tags": [],
            "needs_background": "light"
          }
        }
      ]
    },
    {
      "cell_type": "code",
      "metadata": {
        "id": "6LmmQplfeK2R",
        "colab_type": "code",
        "colab": {}
      },
      "source": [
        "from sklearn.model_selection import train_test_split\n",
        "X_train, X_test, y_train, y_test = train_test_split(X, y, test_size = 0.2, random_state = 0)"
      ],
      "execution_count": 0,
      "outputs": []
    },
    {
      "cell_type": "code",
      "metadata": {
        "id": "VJsFyAeajVEk",
        "colab_type": "code",
        "colab": {}
      },
      "source": [
        "from sklearn.preprocessing import StandardScaler\n",
        "sc = StandardScaler()\n",
        "X_train = sc.fit_transform(X_train)\n",
        "X_test = sc.transform(X_test)"
      ],
      "execution_count": 0,
      "outputs": []
    },
    {
      "cell_type": "code",
      "metadata": {
        "id": "SdJI4IYikKCR",
        "colab_type": "code",
        "colab": {}
      },
      "source": [
        "ann = tf.keras.models.Sequential()"
      ],
      "execution_count": 0,
      "outputs": []
    },
    {
      "cell_type": "code",
      "metadata": {
        "id": "3RXKIGbzkSHd",
        "colab_type": "code",
        "colab": {}
      },
      "source": [
        "ann.add(tf.keras.layers.Dense(units=8, activation='relu'))"
      ],
      "execution_count": 0,
      "outputs": []
    },
    {
      "cell_type": "code",
      "metadata": {
        "id": "S5bFpeiUlOFa",
        "colab_type": "code",
        "colab": {}
      },
      "source": [
        "ann.add(tf.keras.layers.Dense(units=8, activation='relu'))"
      ],
      "execution_count": 0,
      "outputs": []
    },
    {
      "cell_type": "code",
      "metadata": {
        "id": "vJ62R13mlTrV",
        "colab_type": "code",
        "colab": {}
      },
      "source": [
        "ann.add(tf.keras.layers.Dense(units=1, activation='sigmoid'))"
      ],
      "execution_count": 0,
      "outputs": []
    },
    {
      "cell_type": "code",
      "metadata": {
        "id": "FulbErm5lX70",
        "colab_type": "code",
        "colab": {}
      },
      "source": [
        "ann.compile(optimizer = 'adam', loss = 'binary_crossentropy', metrics = ['accuracy'])"
      ],
      "execution_count": 0,
      "outputs": []
    },
    {
      "cell_type": "code",
      "metadata": {
        "id": "felDKnQHldeG",
        "colab_type": "code",
        "colab": {
          "base_uri": "https://localhost:8080/",
          "height": 1000
        },
        "outputId": "cd9eac72-e191-4805-ab35-e3be8d4cdf91"
      },
      "source": [
        "ann.fit(X_train, y_train, batch_size = 20, epochs = 100)"
      ],
      "execution_count": 72,
      "outputs": [
        {
          "output_type": "stream",
          "text": [
            "Epoch 1/100\n",
            "134/134 [==============================] - 0s 1ms/step - loss: 0.4656 - accuracy: 0.8455\n",
            "Epoch 2/100\n",
            "134/134 [==============================] - 0s 1ms/step - loss: 0.4073 - accuracy: 0.8518\n",
            "Epoch 3/100\n",
            "134/134 [==============================] - 0s 1ms/step - loss: 0.3743 - accuracy: 0.8530\n",
            "Epoch 4/100\n",
            "134/134 [==============================] - 0s 1ms/step - loss: 0.3442 - accuracy: 0.8646\n",
            "Epoch 5/100\n",
            "134/134 [==============================] - 0s 1ms/step - loss: 0.3202 - accuracy: 0.8770\n",
            "Epoch 6/100\n",
            "134/134 [==============================] - 0s 2ms/step - loss: 0.3036 - accuracy: 0.8863\n",
            "Epoch 7/100\n",
            "134/134 [==============================] - 0s 1ms/step - loss: 0.2935 - accuracy: 0.8931\n",
            "Epoch 8/100\n",
            "134/134 [==============================] - 0s 1ms/step - loss: 0.2849 - accuracy: 0.8957\n",
            "Epoch 9/100\n",
            "134/134 [==============================] - 0s 1ms/step - loss: 0.2783 - accuracy: 0.8961\n",
            "Epoch 10/100\n",
            "134/134 [==============================] - 0s 1ms/step - loss: 0.2730 - accuracy: 0.8987\n",
            "Epoch 11/100\n",
            "134/134 [==============================] - 0s 1ms/step - loss: 0.2679 - accuracy: 0.9006\n",
            "Epoch 12/100\n",
            "134/134 [==============================] - 0s 1ms/step - loss: 0.2633 - accuracy: 0.9014\n",
            "Epoch 13/100\n",
            "134/134 [==============================] - 0s 1ms/step - loss: 0.2591 - accuracy: 0.9036\n",
            "Epoch 14/100\n",
            "134/134 [==============================] - 0s 1ms/step - loss: 0.2553 - accuracy: 0.9059\n",
            "Epoch 15/100\n",
            "134/134 [==============================] - 0s 1ms/step - loss: 0.2525 - accuracy: 0.9062\n",
            "Epoch 16/100\n",
            "134/134 [==============================] - 0s 1ms/step - loss: 0.2486 - accuracy: 0.9074\n",
            "Epoch 17/100\n",
            "134/134 [==============================] - 0s 1ms/step - loss: 0.2453 - accuracy: 0.9096\n",
            "Epoch 18/100\n",
            "134/134 [==============================] - 0s 1ms/step - loss: 0.2426 - accuracy: 0.9119\n",
            "Epoch 19/100\n",
            "134/134 [==============================] - 0s 1ms/step - loss: 0.2396 - accuracy: 0.9119\n",
            "Epoch 20/100\n",
            "134/134 [==============================] - 0s 1ms/step - loss: 0.2362 - accuracy: 0.9100\n",
            "Epoch 21/100\n",
            "134/134 [==============================] - 0s 1ms/step - loss: 0.2330 - accuracy: 0.9130\n",
            "Epoch 22/100\n",
            "134/134 [==============================] - 0s 1ms/step - loss: 0.2317 - accuracy: 0.9111\n",
            "Epoch 23/100\n",
            "134/134 [==============================] - 0s 1ms/step - loss: 0.2288 - accuracy: 0.9104\n",
            "Epoch 24/100\n",
            "134/134 [==============================] - 0s 1ms/step - loss: 0.2267 - accuracy: 0.9130\n",
            "Epoch 25/100\n",
            "134/134 [==============================] - 0s 1ms/step - loss: 0.2246 - accuracy: 0.9134\n",
            "Epoch 26/100\n",
            "134/134 [==============================] - 0s 1ms/step - loss: 0.2222 - accuracy: 0.9145\n",
            "Epoch 27/100\n",
            "134/134 [==============================] - 0s 1ms/step - loss: 0.2203 - accuracy: 0.9149\n",
            "Epoch 28/100\n",
            "134/134 [==============================] - 0s 1ms/step - loss: 0.2192 - accuracy: 0.9171\n",
            "Epoch 29/100\n",
            "134/134 [==============================] - 0s 1ms/step - loss: 0.2175 - accuracy: 0.9175\n",
            "Epoch 30/100\n",
            "134/134 [==============================] - 0s 1ms/step - loss: 0.2158 - accuracy: 0.9175\n",
            "Epoch 31/100\n",
            "134/134 [==============================] - 0s 1ms/step - loss: 0.2138 - accuracy: 0.9209\n",
            "Epoch 32/100\n",
            "134/134 [==============================] - 0s 1ms/step - loss: 0.2127 - accuracy: 0.9194\n",
            "Epoch 33/100\n",
            "134/134 [==============================] - 0s 1ms/step - loss: 0.2119 - accuracy: 0.9186\n",
            "Epoch 34/100\n",
            "134/134 [==============================] - 0s 1ms/step - loss: 0.2109 - accuracy: 0.9164\n",
            "Epoch 35/100\n",
            "134/134 [==============================] - 0s 1ms/step - loss: 0.2102 - accuracy: 0.9171\n",
            "Epoch 36/100\n",
            "134/134 [==============================] - 0s 1ms/step - loss: 0.2078 - accuracy: 0.9186\n",
            "Epoch 37/100\n",
            "134/134 [==============================] - 0s 1ms/step - loss: 0.2083 - accuracy: 0.9224\n",
            "Epoch 38/100\n",
            "134/134 [==============================] - 0s 1ms/step - loss: 0.2073 - accuracy: 0.9257\n",
            "Epoch 39/100\n",
            "134/134 [==============================] - 0s 1ms/step - loss: 0.2061 - accuracy: 0.9239\n",
            "Epoch 40/100\n",
            "134/134 [==============================] - 0s 1ms/step - loss: 0.2064 - accuracy: 0.9239\n",
            "Epoch 41/100\n",
            "134/134 [==============================] - 0s 1ms/step - loss: 0.2051 - accuracy: 0.9235\n",
            "Epoch 42/100\n",
            "134/134 [==============================] - 0s 1ms/step - loss: 0.2038 - accuracy: 0.9269\n",
            "Epoch 43/100\n",
            "134/134 [==============================] - 0s 1ms/step - loss: 0.2036 - accuracy: 0.9250\n",
            "Epoch 44/100\n",
            "134/134 [==============================] - 0s 1ms/step - loss: 0.2020 - accuracy: 0.9250\n",
            "Epoch 45/100\n",
            "134/134 [==============================] - 0s 1ms/step - loss: 0.2036 - accuracy: 0.9261\n",
            "Epoch 46/100\n",
            "134/134 [==============================] - 0s 1ms/step - loss: 0.2012 - accuracy: 0.9291\n",
            "Epoch 47/100\n",
            "134/134 [==============================] - 0s 1ms/step - loss: 0.1996 - accuracy: 0.9284\n",
            "Epoch 48/100\n",
            "134/134 [==============================] - 0s 1ms/step - loss: 0.1988 - accuracy: 0.9295\n",
            "Epoch 49/100\n",
            "134/134 [==============================] - 0s 1ms/step - loss: 0.1990 - accuracy: 0.9291\n",
            "Epoch 50/100\n",
            "134/134 [==============================] - 0s 1ms/step - loss: 0.1987 - accuracy: 0.9284\n",
            "Epoch 51/100\n",
            "134/134 [==============================] - 0s 1ms/step - loss: 0.1979 - accuracy: 0.9302\n",
            "Epoch 52/100\n",
            "134/134 [==============================] - 0s 1ms/step - loss: 0.1973 - accuracy: 0.9299\n",
            "Epoch 53/100\n",
            "134/134 [==============================] - 0s 1ms/step - loss: 0.1964 - accuracy: 0.9310\n",
            "Epoch 54/100\n",
            "134/134 [==============================] - 0s 1ms/step - loss: 0.1966 - accuracy: 0.9310\n",
            "Epoch 55/100\n",
            "134/134 [==============================] - 0s 1ms/step - loss: 0.1954 - accuracy: 0.9287\n",
            "Epoch 56/100\n",
            "134/134 [==============================] - 0s 1ms/step - loss: 0.1951 - accuracy: 0.9306\n",
            "Epoch 57/100\n",
            "134/134 [==============================] - 0s 1ms/step - loss: 0.1952 - accuracy: 0.9302\n",
            "Epoch 58/100\n",
            "134/134 [==============================] - 0s 1ms/step - loss: 0.1940 - accuracy: 0.9340\n",
            "Epoch 59/100\n",
            "134/134 [==============================] - 0s 1ms/step - loss: 0.1935 - accuracy: 0.9332\n",
            "Epoch 60/100\n",
            "134/134 [==============================] - 0s 1ms/step - loss: 0.1926 - accuracy: 0.9325\n",
            "Epoch 61/100\n",
            "134/134 [==============================] - 0s 1ms/step - loss: 0.1933 - accuracy: 0.9340\n",
            "Epoch 62/100\n",
            "134/134 [==============================] - 0s 1ms/step - loss: 0.1912 - accuracy: 0.9366\n",
            "Epoch 63/100\n",
            "134/134 [==============================] - 0s 1ms/step - loss: 0.1916 - accuracy: 0.9351\n",
            "Epoch 64/100\n",
            "134/134 [==============================] - 0s 1ms/step - loss: 0.1906 - accuracy: 0.9336\n",
            "Epoch 65/100\n",
            "134/134 [==============================] - 0s 1ms/step - loss: 0.1911 - accuracy: 0.9340\n",
            "Epoch 66/100\n",
            "134/134 [==============================] - 0s 1ms/step - loss: 0.1907 - accuracy: 0.9351\n",
            "Epoch 67/100\n",
            "134/134 [==============================] - 0s 1ms/step - loss: 0.1897 - accuracy: 0.9336\n",
            "Epoch 68/100\n",
            "134/134 [==============================] - 0s 1ms/step - loss: 0.1906 - accuracy: 0.9362\n",
            "Epoch 69/100\n",
            "134/134 [==============================] - 0s 1ms/step - loss: 0.1885 - accuracy: 0.9370\n",
            "Epoch 70/100\n",
            "134/134 [==============================] - 0s 1ms/step - loss: 0.1888 - accuracy: 0.9366\n",
            "Epoch 71/100\n",
            "134/134 [==============================] - 0s 1ms/step - loss: 0.1882 - accuracy: 0.9370\n",
            "Epoch 72/100\n",
            "134/134 [==============================] - 0s 1ms/step - loss: 0.1886 - accuracy: 0.9374\n",
            "Epoch 73/100\n",
            "134/134 [==============================] - 0s 1ms/step - loss: 0.1874 - accuracy: 0.9366\n",
            "Epoch 74/100\n",
            "134/134 [==============================] - 0s 1ms/step - loss: 0.1873 - accuracy: 0.9370\n",
            "Epoch 75/100\n",
            "134/134 [==============================] - 0s 1ms/step - loss: 0.1868 - accuracy: 0.9392\n",
            "Epoch 76/100\n",
            "134/134 [==============================] - 0s 1ms/step - loss: 0.1874 - accuracy: 0.9362\n",
            "Epoch 77/100\n",
            "134/134 [==============================] - 0s 1ms/step - loss: 0.1858 - accuracy: 0.9396\n",
            "Epoch 78/100\n",
            "134/134 [==============================] - 0s 1ms/step - loss: 0.1851 - accuracy: 0.9374\n",
            "Epoch 79/100\n",
            "134/134 [==============================] - 0s 1ms/step - loss: 0.1851 - accuracy: 0.9381\n",
            "Epoch 80/100\n",
            "134/134 [==============================] - 0s 1ms/step - loss: 0.1842 - accuracy: 0.9400\n",
            "Epoch 81/100\n",
            "134/134 [==============================] - 0s 1ms/step - loss: 0.1852 - accuracy: 0.9381\n",
            "Epoch 82/100\n",
            "134/134 [==============================] - 0s 1ms/step - loss: 0.1850 - accuracy: 0.9377\n",
            "Epoch 83/100\n",
            "134/134 [==============================] - 0s 1ms/step - loss: 0.1833 - accuracy: 0.9374\n",
            "Epoch 84/100\n",
            "134/134 [==============================] - 0s 1ms/step - loss: 0.1845 - accuracy: 0.9359\n",
            "Epoch 85/100\n",
            "134/134 [==============================] - 0s 1ms/step - loss: 0.1830 - accuracy: 0.9392\n",
            "Epoch 86/100\n",
            "134/134 [==============================] - 0s 1ms/step - loss: 0.1822 - accuracy: 0.9389\n",
            "Epoch 87/100\n",
            "134/134 [==============================] - 0s 1ms/step - loss: 0.1824 - accuracy: 0.9389\n",
            "Epoch 88/100\n",
            "134/134 [==============================] - 0s 1ms/step - loss: 0.1810 - accuracy: 0.9385\n",
            "Epoch 89/100\n",
            "134/134 [==============================] - 0s 1ms/step - loss: 0.1811 - accuracy: 0.9392\n",
            "Epoch 90/100\n",
            "134/134 [==============================] - 0s 1ms/step - loss: 0.1814 - accuracy: 0.9396\n",
            "Epoch 91/100\n",
            "134/134 [==============================] - 0s 1ms/step - loss: 0.1810 - accuracy: 0.9396\n",
            "Epoch 92/100\n",
            "134/134 [==============================] - 0s 2ms/step - loss: 0.1804 - accuracy: 0.9404\n",
            "Epoch 93/100\n",
            "134/134 [==============================] - 0s 1ms/step - loss: 0.1802 - accuracy: 0.9389\n",
            "Epoch 94/100\n",
            "134/134 [==============================] - 0s 1ms/step - loss: 0.1794 - accuracy: 0.9430\n",
            "Epoch 95/100\n",
            "134/134 [==============================] - 0s 1ms/step - loss: 0.1793 - accuracy: 0.9396\n",
            "Epoch 96/100\n",
            "134/134 [==============================] - 0s 1ms/step - loss: 0.1784 - accuracy: 0.9411\n",
            "Epoch 97/100\n",
            "134/134 [==============================] - 0s 1ms/step - loss: 0.1798 - accuracy: 0.9377\n",
            "Epoch 98/100\n",
            "134/134 [==============================] - 0s 1ms/step - loss: 0.1781 - accuracy: 0.9415\n",
            "Epoch 99/100\n",
            "134/134 [==============================] - 0s 1ms/step - loss: 0.1769 - accuracy: 0.9411\n",
            "Epoch 100/100\n",
            "134/134 [==============================] - 0s 1ms/step - loss: 0.1770 - accuracy: 0.9419\n"
          ],
          "name": "stdout"
        },
        {
          "output_type": "execute_result",
          "data": {
            "text/plain": [
              "<tensorflow.python.keras.callbacks.History at 0x7f00a2b8d6d8>"
            ]
          },
          "metadata": {
            "tags": []
          },
          "execution_count": 72
        }
      ]
    },
    {
      "cell_type": "code",
      "metadata": {
        "id": "NUvT6x6clo4Y",
        "colab_type": "code",
        "colab": {
          "base_uri": "https://localhost:8080/",
          "height": 136
        },
        "outputId": "ec82d4d3-eb3a-467f-8b66-ded8c46adba3"
      },
      "source": [
        "y_pred = ann.predict(X_test)\n",
        "y_pred = (y_pred > 0.5)\n",
        "print(np.concatenate((y_pred.reshape(len(y_pred),1), y_test.reshape(len(y_test),1)),1))"
      ],
      "execution_count": 74,
      "outputs": [
        {
          "output_type": "stream",
          "text": [
            "[[ True False]\n",
            " [False False]\n",
            " [False False]\n",
            " ...\n",
            " [False False]\n",
            " [False  True]\n",
            " [False False]]\n"
          ],
          "name": "stdout"
        }
      ]
    },
    {
      "cell_type": "code",
      "metadata": {
        "id": "1F4rXV58mWgz",
        "colab_type": "code",
        "colab": {
          "base_uri": "https://localhost:8080/",
          "height": 68
        },
        "outputId": "f55010b3-e98d-4b4b-cda1-2d10061ed898"
      },
      "source": [
        "from sklearn.metrics import confusion_matrix, accuracy_score\n",
        "cm = confusion_matrix(y_test, y_pred)\n",
        "print(cm)\n",
        "print(\"The accuracy achieved is:\",accuracy_score(y_test, y_pred)*100)\n"
      ],
      "execution_count": 78,
      "outputs": [
        {
          "output_type": "stream",
          "text": [
            "[[552  27]\n",
            " [ 32  56]]\n",
            "The accuracy achieved is: 91.1544227886057\n"
          ],
          "name": "stdout"
        }
      ]
    }
  ]
}